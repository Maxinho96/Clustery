{
 "cells": [
  {
   "cell_type": "markdown",
   "metadata": {},
   "source": [
    "# Imports"
   ]
  },
  {
   "cell_type": "code",
   "execution_count": 2,
   "metadata": {},
   "outputs": [],
   "source": [
    "import pandas as pd\n",
    "import os\n",
    "import json\n",
    "import numpy as np\n",
    "from sklearn.cluster import OPTICS, DBSCAN\n",
    "import matplotlib.pyplot as plt\n",
    "import matplotlib.gridspec as gridspec\n",
    "import time"
   ]
  },
  {
   "cell_type": "markdown",
   "metadata": {},
   "source": [
    "# Dataset exploring"
   ]
  },
  {
   "cell_type": "code",
   "execution_count": 10,
   "metadata": {},
   "outputs": [
    {
     "data": {
      "text/html": [
       "<div>\n",
       "<style scoped>\n",
       "    .dataframe tbody tr th:only-of-type {\n",
       "        vertical-align: middle;\n",
       "    }\n",
       "\n",
       "    .dataframe tbody tr th {\n",
       "        vertical-align: top;\n",
       "    }\n",
       "\n",
       "    .dataframe thead th {\n",
       "        text-align: right;\n",
       "    }\n",
       "</style>\n",
       "<table border=\"1\" class=\"dataframe\">\n",
       "  <thead>\n",
       "    <tr style=\"text-align: right;\">\n",
       "      <th></th>\n",
       "      <th>left_target_attribute</th>\n",
       "      <th>right_target_attribute</th>\n",
       "      <th>left_instance_attribute</th>\n",
       "      <th>right_instance_attribute</th>\n",
       "      <th>left_instance_value</th>\n",
       "      <th>right_instance_value</th>\n",
       "      <th>label</th>\n",
       "    </tr>\n",
       "  </thead>\n",
       "  <tbody>\n",
       "    <tr>\n",
       "      <th>0</th>\n",
       "      <td>auto_focus_beam</td>\n",
       "      <td>auto_focus_beam</td>\n",
       "      <td>www.shopmania.in//1547//af illuminator</td>\n",
       "      <td>www.shopmania.in//1066//af illuminator</td>\n",
       "      <td>yes</td>\n",
       "      <td>yes</td>\n",
       "      <td>1</td>\n",
       "    </tr>\n",
       "    <tr>\n",
       "      <th>1</th>\n",
       "      <td>auto_focus_beam</td>\n",
       "      <td>auto_focus_beam</td>\n",
       "      <td>www.shopmania.in//859//af illuminator</td>\n",
       "      <td>www.ilgs.net//24//auto focus af assist beam</td>\n",
       "      <td>yes</td>\n",
       "      <td>yes</td>\n",
       "      <td>1</td>\n",
       "    </tr>\n",
       "    <tr>\n",
       "      <th>2</th>\n",
       "      <td>auto_focus_beam</td>\n",
       "      <td>auto_focus_beam</td>\n",
       "      <td>www.canon-europe.com//59//af assist beam</td>\n",
       "      <td>www.shopmania.in//858//af illuminator</td>\n",
       "      <td>yes</td>\n",
       "      <td>yes</td>\n",
       "      <td>1</td>\n",
       "    </tr>\n",
       "    <tr>\n",
       "      <th>3</th>\n",
       "      <td>auto_focus_beam</td>\n",
       "      <td>auto_focus_beam</td>\n",
       "      <td>www.shopmania.in//1458//af illuminator</td>\n",
       "      <td>www.cambuy.com.au//22//af assist beam</td>\n",
       "      <td>yes</td>\n",
       "      <td>yes</td>\n",
       "      <td>1</td>\n",
       "    </tr>\n",
       "    <tr>\n",
       "      <th>4</th>\n",
       "      <td>auto_focus_beam</td>\n",
       "      <td>auto_focus_beam</td>\n",
       "      <td>www.shopmania.in//1101//af illuminator</td>\n",
       "      <td>www.shopmania.in//858//af illuminator</td>\n",
       "      <td>yes</td>\n",
       "      <td>yes</td>\n",
       "      <td>1</td>\n",
       "    </tr>\n",
       "    <tr>\n",
       "      <th>5</th>\n",
       "      <td>auto_focus_beam</td>\n",
       "      <td>auto_focus_beam</td>\n",
       "      <td>www.shopmania.in//1547//af illuminator</td>\n",
       "      <td>www.cambuy.com.au//22//af assist beam</td>\n",
       "      <td>yes</td>\n",
       "      <td>yes</td>\n",
       "      <td>1</td>\n",
       "    </tr>\n",
       "    <tr>\n",
       "      <th>6</th>\n",
       "      <td>auto_focus_beam</td>\n",
       "      <td>auto_focus_beam</td>\n",
       "      <td>www.shopmania.in//1478//af illuminator</td>\n",
       "      <td>www.ilgs.net//24//auto focus af assist beam</td>\n",
       "      <td>yes</td>\n",
       "      <td>yes</td>\n",
       "      <td>1</td>\n",
       "    </tr>\n",
       "    <tr>\n",
       "      <th>7</th>\n",
       "      <td>auto_focus_beam</td>\n",
       "      <td>auto_focus_beam</td>\n",
       "      <td>www.shopmania.in//926//af illuminator</td>\n",
       "      <td>www.ilgs.net//134//auto focus af assist beam</td>\n",
       "      <td>yes</td>\n",
       "      <td>no</td>\n",
       "      <td>1</td>\n",
       "    </tr>\n",
       "    <tr>\n",
       "      <th>8</th>\n",
       "      <td>auto_focus_beam</td>\n",
       "      <td>auto_focus_beam</td>\n",
       "      <td>www.shopmania.in//1490//af illuminator</td>\n",
       "      <td>www.cambuy.com.au//103//af assist beam</td>\n",
       "      <td>yes</td>\n",
       "      <td>intermittent firing of built-in flash or emitt...</td>\n",
       "      <td>1</td>\n",
       "    </tr>\n",
       "    <tr>\n",
       "      <th>9</th>\n",
       "      <td>auto_focus_beam</td>\n",
       "      <td>auto_focus_beam</td>\n",
       "      <td>www.shopmania.in//1406//af illuminator</td>\n",
       "      <td>www.shopmania.in//1009//af illuminator</td>\n",
       "      <td>yes</td>\n",
       "      <td>yes</td>\n",
       "      <td>1</td>\n",
       "    </tr>\n",
       "  </tbody>\n",
       "</table>\n",
       "</div>"
      ],
      "text/plain": [
       "  left_target_attribute right_target_attribute  \\\n",
       "0       auto_focus_beam        auto_focus_beam   \n",
       "1       auto_focus_beam        auto_focus_beam   \n",
       "2       auto_focus_beam        auto_focus_beam   \n",
       "3       auto_focus_beam        auto_focus_beam   \n",
       "4       auto_focus_beam        auto_focus_beam   \n",
       "5       auto_focus_beam        auto_focus_beam   \n",
       "6       auto_focus_beam        auto_focus_beam   \n",
       "7       auto_focus_beam        auto_focus_beam   \n",
       "8       auto_focus_beam        auto_focus_beam   \n",
       "9       auto_focus_beam        auto_focus_beam   \n",
       "\n",
       "                    left_instance_attribute  \\\n",
       "0    www.shopmania.in//1547//af illuminator   \n",
       "1     www.shopmania.in//859//af illuminator   \n",
       "2  www.canon-europe.com//59//af assist beam   \n",
       "3    www.shopmania.in//1458//af illuminator   \n",
       "4    www.shopmania.in//1101//af illuminator   \n",
       "5    www.shopmania.in//1547//af illuminator   \n",
       "6    www.shopmania.in//1478//af illuminator   \n",
       "7     www.shopmania.in//926//af illuminator   \n",
       "8    www.shopmania.in//1490//af illuminator   \n",
       "9    www.shopmania.in//1406//af illuminator   \n",
       "\n",
       "                       right_instance_attribute left_instance_value  \\\n",
       "0        www.shopmania.in//1066//af illuminator                 yes   \n",
       "1   www.ilgs.net//24//auto focus af assist beam                 yes   \n",
       "2         www.shopmania.in//858//af illuminator                 yes   \n",
       "3         www.cambuy.com.au//22//af assist beam                 yes   \n",
       "4         www.shopmania.in//858//af illuminator                 yes   \n",
       "5         www.cambuy.com.au//22//af assist beam                 yes   \n",
       "6   www.ilgs.net//24//auto focus af assist beam                 yes   \n",
       "7  www.ilgs.net//134//auto focus af assist beam                 yes   \n",
       "8        www.cambuy.com.au//103//af assist beam                 yes   \n",
       "9        www.shopmania.in//1009//af illuminator                 yes   \n",
       "\n",
       "                                right_instance_value  label  \n",
       "0                                                yes      1  \n",
       "1                                                yes      1  \n",
       "2                                                yes      1  \n",
       "3                                                yes      1  \n",
       "4                                                yes      1  \n",
       "5                                                yes      1  \n",
       "6                                                yes      1  \n",
       "7                                                 no      1  \n",
       "8  intermittent firing of built-in flash or emitt...      1  \n",
       "9                                                yes      1  "
      ]
     },
     "execution_count": 10,
     "metadata": {},
     "output_type": "execute_result"
    }
   ],
   "source": [
    "# Load first 10 elemets of ground truth\n",
    "gt_path = os.path.join(\"data\", \"gt.csv\")\n",
    "reader = pd.read_csv(gt_path, iterator=True)\n",
    "reader.get_chunk(10)"
   ]
  },
  {
   "cell_type": "code",
   "execution_count": 19,
   "metadata": {},
   "outputs": [
    {
     "data": {
      "text/html": [
       "<div>\n",
       "<style scoped>\n",
       "    .dataframe tbody tr th:only-of-type {\n",
       "        vertical-align: middle;\n",
       "    }\n",
       "\n",
       "    .dataframe tbody tr th {\n",
       "        vertical-align: top;\n",
       "    }\n",
       "\n",
       "    .dataframe thead th {\n",
       "        text-align: right;\n",
       "    }\n",
       "</style>\n",
       "<table border=\"1\" class=\"dataframe\">\n",
       "  <thead>\n",
       "    <tr style=\"text-align: right;\">\n",
       "      <th></th>\n",
       "      <th>left_target_attribute</th>\n",
       "      <th>right_target_attribute</th>\n",
       "      <th>left_instance_attribute</th>\n",
       "      <th>right_instance_attribute</th>\n",
       "      <th>left_instance_value</th>\n",
       "      <th>right_instance_value</th>\n",
       "      <th>label</th>\n",
       "    </tr>\n",
       "  </thead>\n",
       "  <tbody>\n",
       "    <tr>\n",
       "      <th>0</th>\n",
       "      <td>auto_focus_beam</td>\n",
       "      <td>auto_focus_beam</td>\n",
       "      <td>www.shopmania.in//1547//af illuminator</td>\n",
       "      <td>www.shopmania.in//1066//af illuminator</td>\n",
       "      <td>yes</td>\n",
       "      <td>yes</td>\n",
       "      <td>1</td>\n",
       "    </tr>\n",
       "    <tr>\n",
       "      <th>1</th>\n",
       "      <td>auto_focus_beam</td>\n",
       "      <td>auto_focus_beam</td>\n",
       "      <td>www.shopmania.in//859//af illuminator</td>\n",
       "      <td>www.ilgs.net//24//auto focus af assist beam</td>\n",
       "      <td>yes</td>\n",
       "      <td>yes</td>\n",
       "      <td>1</td>\n",
       "    </tr>\n",
       "    <tr>\n",
       "      <th>2</th>\n",
       "      <td>auto_focus_beam</td>\n",
       "      <td>auto_focus_beam</td>\n",
       "      <td>www.canon-europe.com//59//af assist beam</td>\n",
       "      <td>www.shopmania.in//858//af illuminator</td>\n",
       "      <td>yes</td>\n",
       "      <td>yes</td>\n",
       "      <td>1</td>\n",
       "    </tr>\n",
       "    <tr>\n",
       "      <th>3</th>\n",
       "      <td>auto_focus_beam</td>\n",
       "      <td>auto_focus_beam</td>\n",
       "      <td>www.shopmania.in//1458//af illuminator</td>\n",
       "      <td>www.cambuy.com.au//22//af assist beam</td>\n",
       "      <td>yes</td>\n",
       "      <td>yes</td>\n",
       "      <td>1</td>\n",
       "    </tr>\n",
       "    <tr>\n",
       "      <th>4</th>\n",
       "      <td>auto_focus_beam</td>\n",
       "      <td>auto_focus_beam</td>\n",
       "      <td>www.shopmania.in//1101//af illuminator</td>\n",
       "      <td>www.shopmania.in//858//af illuminator</td>\n",
       "      <td>yes</td>\n",
       "      <td>yes</td>\n",
       "      <td>1</td>\n",
       "    </tr>\n",
       "    <tr>\n",
       "      <th>...</th>\n",
       "      <td>...</td>\n",
       "      <td>...</td>\n",
       "      <td>...</td>\n",
       "      <td>...</td>\n",
       "      <td>...</td>\n",
       "      <td>...</td>\n",
       "      <td>...</td>\n",
       "    </tr>\n",
       "    <tr>\n",
       "      <th>101995</th>\n",
       "      <td>battery_type</td>\n",
       "      <td>battery_type</td>\n",
       "      <td>www.wexphotographic.com//170//battery model</td>\n",
       "      <td>www.wexphotographic.com//211//battery model</td>\n",
       "      <td>np-w126</td>\n",
       "      <td>nb-12l</td>\n",
       "      <td>1</td>\n",
       "    </tr>\n",
       "    <tr>\n",
       "      <th>101996</th>\n",
       "      <td>battery_type</td>\n",
       "      <td>battery_type</td>\n",
       "      <td>www.cambuy.com.au//82//battery</td>\n",
       "      <td>www.henrys.com//24//battery</td>\n",
       "      <td>one rechargeable li-ion en-el14a battery</td>\n",
       "      <td>en-el19</td>\n",
       "      <td>1</td>\n",
       "    </tr>\n",
       "    <tr>\n",
       "      <th>101997</th>\n",
       "      <td>battery_type</td>\n",
       "      <td>battery_type</td>\n",
       "      <td>www.eglobalcentral.co.uk//704//battery</td>\n",
       "      <td>www.wexphotographic.com//192//battery model</td>\n",
       "      <td>lithium-ion en-el15 rechargeable battery &amp; cha...</td>\n",
       "      <td>en-el19</td>\n",
       "      <td>1</td>\n",
       "    </tr>\n",
       "    <tr>\n",
       "      <th>101998</th>\n",
       "      <td>battery_type</td>\n",
       "      <td>battery_type</td>\n",
       "      <td>www.henrys.com//172//battery</td>\n",
       "      <td>www.henrys.com//126//battery</td>\n",
       "      <td>en-el12</td>\n",
       "      <td>nb-10l</td>\n",
       "      <td>1</td>\n",
       "    </tr>\n",
       "    <tr>\n",
       "      <th>101999</th>\n",
       "      <td>battery_type</td>\n",
       "      <td>battery_type</td>\n",
       "      <td>www.canon-europe.com//12//batteries</td>\n",
       "      <td>www.eglobalcentral.co.uk//147//battery</td>\n",
       "      <td>rechargeable li-ion battery nb-5l (battery and...</td>\n",
       "      <td>lp-e6</td>\n",
       "      <td>1</td>\n",
       "    </tr>\n",
       "  </tbody>\n",
       "</table>\n",
       "<p>102000 rows × 7 columns</p>\n",
       "</div>"
      ],
      "text/plain": [
       "       left_target_attribute right_target_attribute  \\\n",
       "0            auto_focus_beam        auto_focus_beam   \n",
       "1            auto_focus_beam        auto_focus_beam   \n",
       "2            auto_focus_beam        auto_focus_beam   \n",
       "3            auto_focus_beam        auto_focus_beam   \n",
       "4            auto_focus_beam        auto_focus_beam   \n",
       "...                      ...                    ...   \n",
       "101995          battery_type           battery_type   \n",
       "101996          battery_type           battery_type   \n",
       "101997          battery_type           battery_type   \n",
       "101998          battery_type           battery_type   \n",
       "101999          battery_type           battery_type   \n",
       "\n",
       "                            left_instance_attribute  \\\n",
       "0            www.shopmania.in//1547//af illuminator   \n",
       "1             www.shopmania.in//859//af illuminator   \n",
       "2          www.canon-europe.com//59//af assist beam   \n",
       "3            www.shopmania.in//1458//af illuminator   \n",
       "4            www.shopmania.in//1101//af illuminator   \n",
       "...                                             ...   \n",
       "101995  www.wexphotographic.com//170//battery model   \n",
       "101996               www.cambuy.com.au//82//battery   \n",
       "101997       www.eglobalcentral.co.uk//704//battery   \n",
       "101998                 www.henrys.com//172//battery   \n",
       "101999          www.canon-europe.com//12//batteries   \n",
       "\n",
       "                           right_instance_attribute  \\\n",
       "0            www.shopmania.in//1066//af illuminator   \n",
       "1       www.ilgs.net//24//auto focus af assist beam   \n",
       "2             www.shopmania.in//858//af illuminator   \n",
       "3             www.cambuy.com.au//22//af assist beam   \n",
       "4             www.shopmania.in//858//af illuminator   \n",
       "...                                             ...   \n",
       "101995  www.wexphotographic.com//211//battery model   \n",
       "101996                  www.henrys.com//24//battery   \n",
       "101997  www.wexphotographic.com//192//battery model   \n",
       "101998                 www.henrys.com//126//battery   \n",
       "101999       www.eglobalcentral.co.uk//147//battery   \n",
       "\n",
       "                                      left_instance_value  \\\n",
       "0                                                     yes   \n",
       "1                                                     yes   \n",
       "2                                                     yes   \n",
       "3                                                     yes   \n",
       "4                                                     yes   \n",
       "...                                                   ...   \n",
       "101995                                            np-w126   \n",
       "101996           one rechargeable li-ion en-el14a battery   \n",
       "101997  lithium-ion en-el15 rechargeable battery & cha...   \n",
       "101998                                            en-el12   \n",
       "101999  rechargeable li-ion battery nb-5l (battery and...   \n",
       "\n",
       "       right_instance_value  label  \n",
       "0                       yes      1  \n",
       "1                       yes      1  \n",
       "2                       yes      1  \n",
       "3                       yes      1  \n",
       "4                       yes      1  \n",
       "...                     ...    ...  \n",
       "101995               nb-12l      1  \n",
       "101996              en-el19      1  \n",
       "101997              en-el19      1  \n",
       "101998               nb-10l      1  \n",
       "101999                lp-e6      1  \n",
       "\n",
       "[102000 rows x 7 columns]"
      ]
     },
     "execution_count": 19,
     "metadata": {},
     "output_type": "execute_result"
    }
   ],
   "source": [
    "# Read ground truth elements chunk by chunk\n",
    "reader = pd.read_csv(gt_path, chunksize=1000)\n",
    "gt = pd.DataFrame()\n",
    "for i, chunk in enumerate(reader):\n",
    "    gt = pd.concat([gt, chunk])\n",
    "    if i > 100:\n",
    "        break\n",
    "gt"
   ]
  },
  {
   "cell_type": "markdown",
   "metadata": {},
   "source": [
    "# Dataset loading"
   ]
  },
  {
   "cell_type": "code",
   "execution_count": 3,
   "metadata": {},
   "outputs": [
    {
     "name": "stdout",
     "output_type": "stream",
     "text": [
      "Loaded 0 rows...\n",
      "Loaded 1000 rows...\n",
      "Loaded 2000 rows...\n",
      "Loaded 3000 rows...\n",
      "Loaded 4000 rows...\n",
      "Loaded 5000 rows...\n",
      "Loaded 6000 rows...\n",
      "Loaded 7000 rows...\n",
      "Loaded 8000 rows...\n",
      "Loaded 9000 rows...\n",
      "Loaded 10000 rows...\n",
      "Loaded 11000 rows...\n",
      "Loaded 12000 rows...\n",
      "Loaded 13000 rows...\n",
      "Loaded 14000 rows...\n",
      "Loaded 15000 rows...\n",
      "Loaded 16000 rows...\n",
      "Loaded 17000 rows...\n",
      "Loaded 18000 rows...\n",
      "Loaded 19000 rows...\n",
      "Loaded 20000 rows...\n",
      "Loaded 21000 rows...\n",
      "Loaded 22000 rows...\n",
      "Loaded 23000 rows...\n",
      "Loaded 24000 rows...\n",
      "Loaded 25000 rows...\n",
      "Loaded 26000 rows...\n",
      "Loaded 27000 rows...\n",
      "Loaded 28000 rows...\n",
      "Loaded 29000 rows...\n"
     ]
    },
    {
     "data": {
      "text/html": [
       "<div>\n",
       "<style scoped>\n",
       "    .dataframe tbody tr th:only-of-type {\n",
       "        vertical-align: middle;\n",
       "    }\n",
       "\n",
       "    .dataframe tbody tr th {\n",
       "        vertical-align: top;\n",
       "    }\n",
       "\n",
       "    .dataframe thead th {\n",
       "        text-align: right;\n",
       "    }\n",
       "</style>\n",
       "<table border=\"1\" class=\"dataframe\">\n",
       "  <thead>\n",
       "    <tr style=\"text-align: right;\">\n",
       "      <th></th>\n",
       "      <th>name</th>\n",
       "      <th>value</th>\n",
       "    </tr>\n",
       "  </thead>\n",
       "  <tbody>\n",
       "    <tr>\n",
       "      <th>0</th>\n",
       "      <td>&lt;page title&gt;</td>\n",
       "      <td>Buy Canon EOS 5D Mark III Digital Camera (Body...</td>\n",
       "    </tr>\n",
       "    <tr>\n",
       "      <th>1</th>\n",
       "      <td>actual weight</td>\n",
       "      <td>33.50 oz</td>\n",
       "    </tr>\n",
       "    <tr>\n",
       "      <th>2</th>\n",
       "      <td>audio input type</td>\n",
       "      <td>Microphone</td>\n",
       "    </tr>\n",
       "    <tr>\n",
       "      <th>3</th>\n",
       "      <td>battery technology</td>\n",
       "      <td>Lithium ion</td>\n",
       "    </tr>\n",
       "    <tr>\n",
       "      <th>4</th>\n",
       "      <td>camera type</td>\n",
       "      <td>SLR camera</td>\n",
       "    </tr>\n",
       "    <tr>\n",
       "      <th>...</th>\n",
       "      <td>...</td>\n",
       "      <td>...</td>\n",
       "    </tr>\n",
       "    <tr>\n",
       "      <th>8</th>\n",
       "      <td>lens tele mm</td>\n",
       "      <td>224</td>\n",
       "    </tr>\n",
       "    <tr>\n",
       "      <th>9</th>\n",
       "      <td>lens wide mm</td>\n",
       "      <td>28</td>\n",
       "    </tr>\n",
       "    <tr>\n",
       "      <th>10</th>\n",
       "      <td>mpn</td>\n",
       "      <td>8195B010AA</td>\n",
       "    </tr>\n",
       "    <tr>\n",
       "      <th>11</th>\n",
       "      <td>optical zoom</td>\n",
       "      <td>5x</td>\n",
       "    </tr>\n",
       "    <tr>\n",
       "      <th>12</th>\n",
       "      <td>optical zoom range</td>\n",
       "      <td>4x to 7x</td>\n",
       "    </tr>\n",
       "  </tbody>\n",
       "</table>\n",
       "<p>528519 rows × 2 columns</p>\n",
       "</div>"
      ],
      "text/plain": [
       "                  name                                              value\n",
       "0         <page title>  Buy Canon EOS 5D Mark III Digital Camera (Body...\n",
       "1        actual weight                                           33.50 oz\n",
       "2     audio input type                                         Microphone\n",
       "3   battery technology                                        Lithium ion\n",
       "4          camera type                                         SLR camera\n",
       "..                 ...                                                ...\n",
       "8         lens tele mm                                                224\n",
       "9         lens wide mm                                                 28\n",
       "10                 mpn                                         8195B010AA\n",
       "11        optical zoom                                                 5x\n",
       "12  optical zoom range                                           4x to 7x\n",
       "\n",
       "[528519 rows x 2 columns]"
      ]
     },
     "execution_count": 3,
     "metadata": {},
     "output_type": "execute_result"
    }
   ],
   "source": [
    "# I load the attributes in the specs DataFrame. Specs must be in folder ./data/specs\n",
    "specs = pd.DataFrame()\n",
    "specs_dir = os.path.join(\"data\", \"specs\")\n",
    "i = 0\n",
    "for root_dir, _, files in os.walk(specs_dir):\n",
    "    for file_name in files:\n",
    "        if file_name.endswith(\".json\"):\n",
    "            file_path = os.path.join(root_dir, file_name)\n",
    "            \n",
    "            with open(file_path, 'r') as json_file:\n",
    "                json_dict = json.load(json_file)\n",
    "                \n",
    "            json_names = list(json_dict.keys())\n",
    "            json_values = list(json_dict.values())\n",
    "            json_np = np.vstack([json_names, json_values]).T\n",
    "            json_df = pd.DataFrame(json_np, columns=[\"name\", \"value\"])\n",
    "            specs = pd.concat([specs, json_df])\n",
    "            \n",
    "            if i % 1000 == 0:\n",
    "                print(\"Loaded\", i, \"files...\")\n",
    "            i += 1\n",
    "specs"
   ]
  },
  {
   "cell_type": "markdown",
   "metadata": {},
   "source": [
    "# Demo di clustering con OPTICS"
   ]
  },
  {
   "cell_type": "code",
   "execution_count": 19,
   "metadata": {},
   "outputs": [
    {
     "data": {
      "image/png": "[encoded data removed]",
      "text/plain": [
       "<Figure size 720x504 with 2 Axes>"
      ]
     },
     "metadata": {
      "needs_background": "light"
     },
     "output_type": "display_data"
    }
   ],
   "source": [
    "# Generate sample data\n",
    "\n",
    "np.random.seed(0)\n",
    "n_points_per_cluster = 250\n",
    "\n",
    "C1 = [-5, -2] + .8 * np.random.randn(n_points_per_cluster, 2)\n",
    "C2 = [4, -1] + .1 * np.random.randn(n_points_per_cluster, 2)\n",
    "C3 = [1, -2] + .2 * np.random.randn(n_points_per_cluster, 2)\n",
    "C4 = [-2, 3] + .3 * np.random.randn(n_points_per_cluster, 2)\n",
    "C5 = [3, -2] + 1.6 * np.random.randn(n_points_per_cluster, 2)\n",
    "C6 = [5, 6] + 2 * np.random.randn(n_points_per_cluster, 2)\n",
    "X = np.vstack((C1, C2, C3, C4, C5, C6))\n",
    "\n",
    "clust = OPTICS(min_samples=50, xi=.05, min_cluster_size=.05)\n",
    "\n",
    "# Run the fit\n",
    "clust.fit(X)\n",
    "\n",
    "space = np.arange(len(X))\n",
    "# Produce un array ordinato che indica la \"distanza\" (raggiungibilità) di ogni punto dal suo cluster.\n",
    "reachability = clust.reachability_[clust.ordering_]\n",
    "# Produce un array ordinato che indica il cluster di appartenenza di ogni punto (mediante un ID).\n",
    "labels = clust.labels_[clust.ordering_]\n",
    "# I precedenti array sono ordinati in modo tale che i punti vicini nello spazio vettoriale siano adiacenti nell'array.\n",
    "\n",
    "plt.figure(figsize=(10, 7))\n",
    "G = gridspec.GridSpec(2, 1)\n",
    "ax1 = plt.subplot(G[0, :])\n",
    "ax2 = plt.subplot(G[1, :])\n",
    "\n",
    "# Reachability plot\n",
    "colors = ['g.', 'r.', 'b.', 'y.', 'c.']\n",
    "for klass, color in zip(range(0, 5), colors):\n",
    "    # Prende gli indici di tutti i punti che appartengono alla classe klass.\n",
    "    Xk = space[labels == klass]\n",
    "    # Prende la raggiungibilità di tutti i punti che appartengono alla classe klass.\n",
    "    Rk = reachability[labels == klass]\n",
    "    # Plotta il grafico inidice/raggiungibilità\n",
    "    ax1.plot(Xk, Rk, color, alpha=0.3)\n",
    "# Plotta gli outliers (quelli con raggiungibilità troppo alta), che sono assegnati al cluster -1 (nessun cluster).\n",
    "ax1.plot(space[labels == -1], reachability[labels == -1], 'k.', alpha=0.3)\n",
    "ax1.set_ylabel('Reachability (epsilon distance)')\n",
    "ax1.set_title('Reachability Plot')\n",
    "\n",
    "# OPTICS\n",
    "colors = ['g.', 'r.', 'b.', 'y.', 'c.']\n",
    "for klass, color in zip(range(0, 5), colors):\n",
    "    # Prende tutti i punti che appartengono alla classe klass.\n",
    "    Xk = X[clust.labels_ == klass]\n",
    "    # Plotta i punti della classe klass.\n",
    "    ax2.plot(Xk[:, 0], Xk[:, 1], color, alpha=0.3)\n",
    "# Plotta i punti della classe -1.\n",
    "ax2.plot(X[clust.labels_ == -1, 0], X[clust.labels_ == -1, 1], 'k+', alpha=0.1)\n",
    "ax2.set_title('Automatic Clustering\\nOPTICS')\n",
    "\n",
    "plt.tight_layout()\n",
    "plt.show()"
   ]
  },
  {
   "cell_type": "code",
   "execution_count": 14,
   "metadata": {},
   "outputs": [
    {
     "data": {
      "text/plain": [
       "array([  0,   3,   6, ..., 908, 873, 866])"
      ]
     },
     "execution_count": 14,
     "metadata": {},
     "output_type": "execute_result"
    }
   ],
   "source": [
    "clust.ordering_"
   ]
  },
  {
   "cell_type": "code",
   "execution_count": 15,
   "metadata": {},
   "outputs": [
    {
     "data": {
      "text/plain": [
       "array([       inf, 0.8851258 , 0.7643838 , ..., 1.9108775 , 1.27370383,\n",
       "       1.34376381])"
      ]
     },
     "execution_count": 15,
     "metadata": {},
     "output_type": "execute_result"
    }
   ],
   "source": [
    "clust.reachability_"
   ]
  },
  {
   "cell_type": "code",
   "execution_count": 16,
   "metadata": {},
   "outputs": [
    {
     "data": {
      "text/plain": [
       "array([       inf, 1.02299291, 0.72157342, ..., 0.37733713, 0.38277529,\n",
       "       0.46184072])"
      ]
     },
     "execution_count": 16,
     "metadata": {},
     "output_type": "execute_result"
    }
   ],
   "source": [
    "clust.reachability_[clust.ordering_]"
   ]
  },
  {
   "cell_type": "code",
   "execution_count": 20,
   "metadata": {},
   "outputs": [
    {
     "data": {
      "text/plain": [
       "array([0, 0, 0, ..., 3, 3, 3])"
      ]
     },
     "execution_count": 20,
     "metadata": {},
     "output_type": "execute_result"
    }
   ],
   "source": [
    "clust.labels_"
   ]
  },
  {
   "cell_type": "code",
   "execution_count": 22,
   "metadata": {},
   "outputs": [
    {
     "data": {
      "text/plain": [
       "array([-1,  0,  1,  2,  3,  4])"
      ]
     },
     "execution_count": 22,
     "metadata": {},
     "output_type": "execute_result"
    }
   ],
   "source": [
    "np.unique(clust.labels_)"
   ]
  },
  {
   "cell_type": "code",
   "execution_count": 21,
   "metadata": {},
   "outputs": [
    {
     "data": {
      "text/plain": [
       "array([0, 0, 0, ..., 4, 4, 4])"
      ]
     },
     "execution_count": 21,
     "metadata": {},
     "output_type": "execute_result"
    }
   ],
   "source": [
    "clust.labels_[clust.ordering_]"
   ]
  },
  {
   "cell_type": "markdown",
   "metadata": {},
   "source": [
    "# Prova di clustering su un DataFrame dummy con vari algoritmi"
   ]
  },
  {
   "cell_type": "code",
   "execution_count": 4,
   "metadata": {},
   "outputs": [],
   "source": [
    "# Genero dati a caso (della stessa dimensione di quelli veri)\n",
    "dummy_specs = np.random.randn(528519, 200)"
   ]
  },
  {
   "cell_type": "code",
   "execution_count": 7,
   "metadata": {},
   "outputs": [
    {
     "ename": "KeyboardInterrupt",
     "evalue": "",
     "output_type": "error",
     "traceback": [
      "\u001b[0;31m---------------------------------------------------------------------------\u001b[0m",
      "\u001b[0;31mKeyboardInterrupt\u001b[0m                         Traceback (most recent call last)",
      "\u001b[0;32m<ipython-input-7-6bc7999e787d>\u001b[0m in \u001b[0;36m<module>\u001b[0;34m\u001b[0m\n\u001b[1;32m      2\u001b[0m \u001b[0mstart_time\u001b[0m \u001b[0;34m=\u001b[0m \u001b[0mtime\u001b[0m\u001b[0;34m.\u001b[0m\u001b[0mtime\u001b[0m\u001b[0;34m(\u001b[0m\u001b[0;34m)\u001b[0m\u001b[0;34m\u001b[0m\u001b[0;34m\u001b[0m\u001b[0m\n\u001b[1;32m      3\u001b[0m \u001b[0mclustery\u001b[0m \u001b[0;34m=\u001b[0m \u001b[0mOPTICS\u001b[0m\u001b[0;34m(\u001b[0m\u001b[0mmax_eps\u001b[0m\u001b[0;34m=\u001b[0m\u001b[0;36m0.0000000001\u001b[0m\u001b[0;34m,\u001b[0m \u001b[0mn_jobs\u001b[0m\u001b[0;34m=\u001b[0m\u001b[0;34m-\u001b[0m\u001b[0;36m1\u001b[0m\u001b[0;34m)\u001b[0m\u001b[0;34m\u001b[0m\u001b[0;34m\u001b[0m\u001b[0m\n\u001b[0;32m----> 4\u001b[0;31m \u001b[0mclustery\u001b[0m\u001b[0;34m.\u001b[0m\u001b[0mfit\u001b[0m\u001b[0;34m(\u001b[0m\u001b[0mdummy_specs\u001b[0m\u001b[0;34m)\u001b[0m\u001b[0;34m\u001b[0m\u001b[0;34m\u001b[0m\u001b[0m\n\u001b[0m\u001b[1;32m      5\u001b[0m \u001b[0mend_time\u001b[0m \u001b[0;34m=\u001b[0m \u001b[0mtime\u001b[0m\u001b[0;34m.\u001b[0m\u001b[0mtime\u001b[0m\u001b[0;34m(\u001b[0m\u001b[0;34m)\u001b[0m\u001b[0;34m\u001b[0m\u001b[0;34m\u001b[0m\u001b[0m\n\u001b[1;32m      6\u001b[0m \u001b[0mprint\u001b[0m\u001b[0;34m(\u001b[0m\u001b[0mend_time\u001b[0m \u001b[0;34m-\u001b[0m \u001b[0mstart_time\u001b[0m\u001b[0;34m)\u001b[0m\u001b[0;34m\u001b[0m\u001b[0;34m\u001b[0m\u001b[0m\n",
      "\u001b[0;32m~/anaconda3/envs/clustery/lib/python3.7/site-packages/sklearn/cluster/_optics.py\u001b[0m in \u001b[0;36mfit\u001b[0;34m(self, X, y)\u001b[0m\n\u001b[1;32m    257\u001b[0m              \u001b[0mleaf_size\u001b[0m\u001b[0;34m=\u001b[0m\u001b[0mself\u001b[0m\u001b[0;34m.\u001b[0m\u001b[0mleaf_size\u001b[0m\u001b[0;34m,\u001b[0m \u001b[0mmetric\u001b[0m\u001b[0;34m=\u001b[0m\u001b[0mself\u001b[0m\u001b[0;34m.\u001b[0m\u001b[0mmetric\u001b[0m\u001b[0;34m,\u001b[0m\u001b[0;34m\u001b[0m\u001b[0;34m\u001b[0m\u001b[0m\n\u001b[1;32m    258\u001b[0m              \u001b[0mmetric_params\u001b[0m\u001b[0;34m=\u001b[0m\u001b[0mself\u001b[0m\u001b[0;34m.\u001b[0m\u001b[0mmetric_params\u001b[0m\u001b[0;34m,\u001b[0m \u001b[0mp\u001b[0m\u001b[0;34m=\u001b[0m\u001b[0mself\u001b[0m\u001b[0;34m.\u001b[0m\u001b[0mp\u001b[0m\u001b[0;34m,\u001b[0m \u001b[0mn_jobs\u001b[0m\u001b[0;34m=\u001b[0m\u001b[0mself\u001b[0m\u001b[0;34m.\u001b[0m\u001b[0mn_jobs\u001b[0m\u001b[0;34m,\u001b[0m\u001b[0;34m\u001b[0m\u001b[0;34m\u001b[0m\u001b[0m\n\u001b[0;32m--> 259\u001b[0;31m              max_eps=self.max_eps)\n\u001b[0m\u001b[1;32m    260\u001b[0m \u001b[0;34m\u001b[0m\u001b[0m\n\u001b[1;32m    261\u001b[0m         \u001b[0;31m# Extract clusters from the calculated orders and reachability\u001b[0m\u001b[0;34m\u001b[0m\u001b[0;34m\u001b[0m\u001b[0;34m\u001b[0m\u001b[0m\n",
      "\u001b[0;32m~/anaconda3/envs/clustery/lib/python3.7/site-packages/sklearn/cluster/_optics.py\u001b[0m in \u001b[0;36mcompute_optics_graph\u001b[0;34m(X, min_samples, max_eps, metric, p, metric_params, algorithm, leaf_size, n_jobs)\u001b[0m\n\u001b[1;32m    471\u001b[0m     core_distances_ = _compute_core_distances_(X=X, neighbors=nbrs,\n\u001b[1;32m    472\u001b[0m                                                \u001b[0mmin_samples\u001b[0m\u001b[0;34m=\u001b[0m\u001b[0mmin_samples\u001b[0m\u001b[0;34m,\u001b[0m\u001b[0;34m\u001b[0m\u001b[0;34m\u001b[0m\u001b[0m\n\u001b[0;32m--> 473\u001b[0;31m                                                working_memory=None)\n\u001b[0m\u001b[1;32m    474\u001b[0m     \u001b[0;31m# OPTICS puts an upper limit on these, use inf for undefined.\u001b[0m\u001b[0;34m\u001b[0m\u001b[0;34m\u001b[0m\u001b[0;34m\u001b[0m\u001b[0m\n\u001b[1;32m    475\u001b[0m     \u001b[0mcore_distances_\u001b[0m\u001b[0;34m[\u001b[0m\u001b[0mcore_distances_\u001b[0m \u001b[0;34m>\u001b[0m \u001b[0mmax_eps\u001b[0m\u001b[0;34m]\u001b[0m \u001b[0;34m=\u001b[0m \u001b[0mnp\u001b[0m\u001b[0;34m.\u001b[0m\u001b[0minf\u001b[0m\u001b[0;34m\u001b[0m\u001b[0;34m\u001b[0m\u001b[0m\n",
      "\u001b[0;32m~/anaconda3/envs/clustery/lib/python3.7/site-packages/sklearn/cluster/_optics.py\u001b[0m in \u001b[0;36m_compute_core_distances_\u001b[0;34m(X, neighbors, min_samples, working_memory)\u001b[0m\n\u001b[1;32m    336\u001b[0m     \u001b[0;32mfor\u001b[0m \u001b[0msl\u001b[0m \u001b[0;32min\u001b[0m \u001b[0mslices\u001b[0m\u001b[0;34m:\u001b[0m\u001b[0;34m\u001b[0m\u001b[0;34m\u001b[0m\u001b[0m\n\u001b[1;32m    337\u001b[0m         core_distances[sl] = neighbors.kneighbors(\n\u001b[0;32m--> 338\u001b[0;31m             X[sl], min_samples)[0][:, -1]\n\u001b[0m\u001b[1;32m    339\u001b[0m     \u001b[0;32mreturn\u001b[0m \u001b[0mcore_distances\u001b[0m\u001b[0;34m\u001b[0m\u001b[0;34m\u001b[0m\u001b[0m\n\u001b[1;32m    340\u001b[0m \u001b[0;34m\u001b[0m\u001b[0m\n",
      "\u001b[0;32m~/anaconda3/envs/clustery/lib/python3.7/site-packages/sklearn/neighbors/_base.py\u001b[0m in \u001b[0;36mkneighbors\u001b[0;34m(self, X, n_neighbors, return_distance)\u001b[0m\n\u001b[1;32m    661\u001b[0m                 delayed_query(\n\u001b[1;32m    662\u001b[0m                     self._tree, X[s], n_neighbors, return_distance)\n\u001b[0;32m--> 663\u001b[0;31m                 \u001b[0;32mfor\u001b[0m \u001b[0ms\u001b[0m \u001b[0;32min\u001b[0m \u001b[0mgen_even_slices\u001b[0m\u001b[0;34m(\u001b[0m\u001b[0mX\u001b[0m\u001b[0;34m.\u001b[0m\u001b[0mshape\u001b[0m\u001b[0;34m[\u001b[0m\u001b[0;36m0\u001b[0m\u001b[0;34m]\u001b[0m\u001b[0;34m,\u001b[0m \u001b[0mn_jobs\u001b[0m\u001b[0;34m)\u001b[0m\u001b[0;34m\u001b[0m\u001b[0;34m\u001b[0m\u001b[0m\n\u001b[0m\u001b[1;32m    664\u001b[0m             )\n\u001b[1;32m    665\u001b[0m         \u001b[0;32melse\u001b[0m\u001b[0;34m:\u001b[0m\u001b[0;34m\u001b[0m\u001b[0;34m\u001b[0m\u001b[0m\n",
      "\u001b[0;32m~/anaconda3/envs/clustery/lib/python3.7/site-packages/joblib/parallel.py\u001b[0m in \u001b[0;36m__call__\u001b[0;34m(self, iterable)\u001b[0m\n\u001b[1;32m   1015\u001b[0m \u001b[0;34m\u001b[0m\u001b[0m\n\u001b[1;32m   1016\u001b[0m             \u001b[0;32mwith\u001b[0m \u001b[0mself\u001b[0m\u001b[0;34m.\u001b[0m\u001b[0m_backend\u001b[0m\u001b[0;34m.\u001b[0m\u001b[0mretrieval_context\u001b[0m\u001b[0;34m(\u001b[0m\u001b[0;34m)\u001b[0m\u001b[0;34m:\u001b[0m\u001b[0;34m\u001b[0m\u001b[0;34m\u001b[0m\u001b[0m\n\u001b[0;32m-> 1017\u001b[0;31m                 \u001b[0mself\u001b[0m\u001b[0;34m.\u001b[0m\u001b[0mretrieve\u001b[0m\u001b[0;34m(\u001b[0m\u001b[0;34m)\u001b[0m\u001b[0;34m\u001b[0m\u001b[0;34m\u001b[0m\u001b[0m\n\u001b[0m\u001b[1;32m   1018\u001b[0m             \u001b[0;31m# Make sure that we get a last message telling us we are done\u001b[0m\u001b[0;34m\u001b[0m\u001b[0;34m\u001b[0m\u001b[0;34m\u001b[0m\u001b[0m\n\u001b[1;32m   1019\u001b[0m             \u001b[0melapsed_time\u001b[0m \u001b[0;34m=\u001b[0m \u001b[0mtime\u001b[0m\u001b[0;34m.\u001b[0m\u001b[0mtime\u001b[0m\u001b[0;34m(\u001b[0m\u001b[0;34m)\u001b[0m \u001b[0;34m-\u001b[0m \u001b[0mself\u001b[0m\u001b[0;34m.\u001b[0m\u001b[0m_start_time\u001b[0m\u001b[0;34m\u001b[0m\u001b[0;34m\u001b[0m\u001b[0m\n",
      "\u001b[0;32m~/anaconda3/envs/clustery/lib/python3.7/site-packages/joblib/parallel.py\u001b[0m in \u001b[0;36mretrieve\u001b[0;34m(self)\u001b[0m\n\u001b[1;32m    907\u001b[0m             \u001b[0;32mtry\u001b[0m\u001b[0;34m:\u001b[0m\u001b[0;34m\u001b[0m\u001b[0;34m\u001b[0m\u001b[0m\n\u001b[1;32m    908\u001b[0m                 \u001b[0;32mif\u001b[0m \u001b[0mgetattr\u001b[0m\u001b[0;34m(\u001b[0m\u001b[0mself\u001b[0m\u001b[0;34m.\u001b[0m\u001b[0m_backend\u001b[0m\u001b[0;34m,\u001b[0m \u001b[0;34m'supports_timeout'\u001b[0m\u001b[0;34m,\u001b[0m \u001b[0;32mFalse\u001b[0m\u001b[0;34m)\u001b[0m\u001b[0;34m:\u001b[0m\u001b[0;34m\u001b[0m\u001b[0;34m\u001b[0m\u001b[0m\n\u001b[0;32m--> 909\u001b[0;31m                     \u001b[0mself\u001b[0m\u001b[0;34m.\u001b[0m\u001b[0m_output\u001b[0m\u001b[0;34m.\u001b[0m\u001b[0mextend\u001b[0m\u001b[0;34m(\u001b[0m\u001b[0mjob\u001b[0m\u001b[0;34m.\u001b[0m\u001b[0mget\u001b[0m\u001b[0;34m(\u001b[0m\u001b[0mtimeout\u001b[0m\u001b[0;34m=\u001b[0m\u001b[0mself\u001b[0m\u001b[0;34m.\u001b[0m\u001b[0mtimeout\u001b[0m\u001b[0;34m)\u001b[0m\u001b[0;34m)\u001b[0m\u001b[0;34m\u001b[0m\u001b[0;34m\u001b[0m\u001b[0m\n\u001b[0m\u001b[1;32m    910\u001b[0m                 \u001b[0;32melse\u001b[0m\u001b[0;34m:\u001b[0m\u001b[0;34m\u001b[0m\u001b[0;34m\u001b[0m\u001b[0m\n\u001b[1;32m    911\u001b[0m                     \u001b[0mself\u001b[0m\u001b[0;34m.\u001b[0m\u001b[0m_output\u001b[0m\u001b[0;34m.\u001b[0m\u001b[0mextend\u001b[0m\u001b[0;34m(\u001b[0m\u001b[0mjob\u001b[0m\u001b[0;34m.\u001b[0m\u001b[0mget\u001b[0m\u001b[0;34m(\u001b[0m\u001b[0;34m)\u001b[0m\u001b[0;34m)\u001b[0m\u001b[0;34m\u001b[0m\u001b[0;34m\u001b[0m\u001b[0m\n",
      "\u001b[0;32m~/anaconda3/envs/clustery/lib/python3.7/multiprocessing/pool.py\u001b[0m in \u001b[0;36mget\u001b[0;34m(self, timeout)\u001b[0m\n\u001b[1;32m    649\u001b[0m \u001b[0;34m\u001b[0m\u001b[0m\n\u001b[1;32m    650\u001b[0m     \u001b[0;32mdef\u001b[0m \u001b[0mget\u001b[0m\u001b[0;34m(\u001b[0m\u001b[0mself\u001b[0m\u001b[0;34m,\u001b[0m \u001b[0mtimeout\u001b[0m\u001b[0;34m=\u001b[0m\u001b[0;32mNone\u001b[0m\u001b[0;34m)\u001b[0m\u001b[0;34m:\u001b[0m\u001b[0;34m\u001b[0m\u001b[0;34m\u001b[0m\u001b[0m\n\u001b[0;32m--> 651\u001b[0;31m         \u001b[0mself\u001b[0m\u001b[0;34m.\u001b[0m\u001b[0mwait\u001b[0m\u001b[0;34m(\u001b[0m\u001b[0mtimeout\u001b[0m\u001b[0;34m)\u001b[0m\u001b[0;34m\u001b[0m\u001b[0;34m\u001b[0m\u001b[0m\n\u001b[0m\u001b[1;32m    652\u001b[0m         \u001b[0;32mif\u001b[0m \u001b[0;32mnot\u001b[0m \u001b[0mself\u001b[0m\u001b[0;34m.\u001b[0m\u001b[0mready\u001b[0m\u001b[0;34m(\u001b[0m\u001b[0;34m)\u001b[0m\u001b[0;34m:\u001b[0m\u001b[0;34m\u001b[0m\u001b[0;34m\u001b[0m\u001b[0m\n\u001b[1;32m    653\u001b[0m             \u001b[0;32mraise\u001b[0m \u001b[0mTimeoutError\u001b[0m\u001b[0;34m\u001b[0m\u001b[0;34m\u001b[0m\u001b[0m\n",
      "\u001b[0;32m~/anaconda3/envs/clustery/lib/python3.7/multiprocessing/pool.py\u001b[0m in \u001b[0;36mwait\u001b[0;34m(self, timeout)\u001b[0m\n\u001b[1;32m    646\u001b[0m \u001b[0;34m\u001b[0m\u001b[0m\n\u001b[1;32m    647\u001b[0m     \u001b[0;32mdef\u001b[0m \u001b[0mwait\u001b[0m\u001b[0;34m(\u001b[0m\u001b[0mself\u001b[0m\u001b[0;34m,\u001b[0m \u001b[0mtimeout\u001b[0m\u001b[0;34m=\u001b[0m\u001b[0;32mNone\u001b[0m\u001b[0;34m)\u001b[0m\u001b[0;34m:\u001b[0m\u001b[0;34m\u001b[0m\u001b[0;34m\u001b[0m\u001b[0m\n\u001b[0;32m--> 648\u001b[0;31m         \u001b[0mself\u001b[0m\u001b[0;34m.\u001b[0m\u001b[0m_event\u001b[0m\u001b[0;34m.\u001b[0m\u001b[0mwait\u001b[0m\u001b[0;34m(\u001b[0m\u001b[0mtimeout\u001b[0m\u001b[0;34m)\u001b[0m\u001b[0;34m\u001b[0m\u001b[0;34m\u001b[0m\u001b[0m\n\u001b[0m\u001b[1;32m    649\u001b[0m \u001b[0;34m\u001b[0m\u001b[0m\n\u001b[1;32m    650\u001b[0m     \u001b[0;32mdef\u001b[0m \u001b[0mget\u001b[0m\u001b[0;34m(\u001b[0m\u001b[0mself\u001b[0m\u001b[0;34m,\u001b[0m \u001b[0mtimeout\u001b[0m\u001b[0;34m=\u001b[0m\u001b[0;32mNone\u001b[0m\u001b[0;34m)\u001b[0m\u001b[0;34m:\u001b[0m\u001b[0;34m\u001b[0m\u001b[0;34m\u001b[0m\u001b[0m\n",
      "\u001b[0;32m~/anaconda3/envs/clustery/lib/python3.7/threading.py\u001b[0m in \u001b[0;36mwait\u001b[0;34m(self, timeout)\u001b[0m\n\u001b[1;32m    550\u001b[0m             \u001b[0msignaled\u001b[0m \u001b[0;34m=\u001b[0m \u001b[0mself\u001b[0m\u001b[0;34m.\u001b[0m\u001b[0m_flag\u001b[0m\u001b[0;34m\u001b[0m\u001b[0;34m\u001b[0m\u001b[0m\n\u001b[1;32m    551\u001b[0m             \u001b[0;32mif\u001b[0m \u001b[0;32mnot\u001b[0m \u001b[0msignaled\u001b[0m\u001b[0;34m:\u001b[0m\u001b[0;34m\u001b[0m\u001b[0;34m\u001b[0m\u001b[0m\n\u001b[0;32m--> 552\u001b[0;31m                 \u001b[0msignaled\u001b[0m \u001b[0;34m=\u001b[0m \u001b[0mself\u001b[0m\u001b[0;34m.\u001b[0m\u001b[0m_cond\u001b[0m\u001b[0;34m.\u001b[0m\u001b[0mwait\u001b[0m\u001b[0;34m(\u001b[0m\u001b[0mtimeout\u001b[0m\u001b[0;34m)\u001b[0m\u001b[0;34m\u001b[0m\u001b[0;34m\u001b[0m\u001b[0m\n\u001b[0m\u001b[1;32m    553\u001b[0m             \u001b[0;32mreturn\u001b[0m \u001b[0msignaled\u001b[0m\u001b[0;34m\u001b[0m\u001b[0;34m\u001b[0m\u001b[0m\n\u001b[1;32m    554\u001b[0m \u001b[0;34m\u001b[0m\u001b[0m\n",
      "\u001b[0;32m~/anaconda3/envs/clustery/lib/python3.7/threading.py\u001b[0m in \u001b[0;36mwait\u001b[0;34m(self, timeout)\u001b[0m\n\u001b[1;32m    294\u001b[0m         \u001b[0;32mtry\u001b[0m\u001b[0;34m:\u001b[0m    \u001b[0;31m# restore state no matter what (e.g., KeyboardInterrupt)\u001b[0m\u001b[0;34m\u001b[0m\u001b[0;34m\u001b[0m\u001b[0m\n\u001b[1;32m    295\u001b[0m             \u001b[0;32mif\u001b[0m \u001b[0mtimeout\u001b[0m \u001b[0;32mis\u001b[0m \u001b[0;32mNone\u001b[0m\u001b[0;34m:\u001b[0m\u001b[0;34m\u001b[0m\u001b[0;34m\u001b[0m\u001b[0m\n\u001b[0;32m--> 296\u001b[0;31m                 \u001b[0mwaiter\u001b[0m\u001b[0;34m.\u001b[0m\u001b[0macquire\u001b[0m\u001b[0;34m(\u001b[0m\u001b[0;34m)\u001b[0m\u001b[0;34m\u001b[0m\u001b[0;34m\u001b[0m\u001b[0m\n\u001b[0m\u001b[1;32m    297\u001b[0m                 \u001b[0mgotit\u001b[0m \u001b[0;34m=\u001b[0m \u001b[0;32mTrue\u001b[0m\u001b[0;34m\u001b[0m\u001b[0;34m\u001b[0m\u001b[0m\n\u001b[1;32m    298\u001b[0m             \u001b[0;32melse\u001b[0m\u001b[0;34m:\u001b[0m\u001b[0;34m\u001b[0m\u001b[0;34m\u001b[0m\u001b[0m\n",
      "\u001b[0;31mKeyboardInterrupt\u001b[0m: "
     ]
    }
   ],
   "source": [
    "# Lancio OPTICS sui dati casuali.\n",
    "start_time = time.time()\n",
    "# Diminuendo max_eps l'algoritmo è più veloce.\n",
    "clustery = OPTICS(max_eps=0.0000000001, n_jobs=-1)\n",
    "clustery.fit(dummy_specs)\n",
    "end_time = time.time()\n",
    "print(end_time - start_time)\n",
    "# Non termina mai anche con un max_eps bassissimo..."
   ]
  },
  {
   "cell_type": "code",
   "execution_count": 5,
   "metadata": {},
   "outputs": [
    {
     "name": "stdout",
     "output_type": "stream",
     "text": [
      "161.17482924461365\n"
     ]
    }
   ],
   "source": [
    "# Lancio DBSCAN sui dati casuali.\n",
    "clustery = DBSCAN(n_jobs=-1)\n",
    "start_time = time.time()\n",
    "clustery.fit(dummy_specs)\n",
    "end_time = time.time()\n",
    "print(end_time - start_time)"
   ]
  },
  {
   "cell_type": "code",
   "execution_count": 9,
   "metadata": {},
   "outputs": [
    {
     "data": {
      "text/plain": [
       "array([-1])"
      ]
     },
     "execution_count": 9,
     "metadata": {},
     "output_type": "execute_result"
    }
   ],
   "source": []
  }
 ],
 "metadata": {
  "kernelspec": {
   "display_name": "Python 3",
   "language": "python",
   "name": "python3"
  },
  "language_info": {
   "codemirror_mode": {
    "name": "ipython",
    "version": 3
   },
   "file_extension": ".py",
   "mimetype": "text/x-python",
   "name": "python",
   "nbconvert_exporter": "python",
   "pygments_lexer": "ipython3",
   "version": "3.7.7"
  }
 },
 "nbformat": 4,
 "nbformat_minor": 4
}
