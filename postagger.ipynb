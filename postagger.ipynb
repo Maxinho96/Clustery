{
 "cells": [
  {
   "cell_type": "markdown",
   "metadata": {},
   "source": [
    "# POS tagger"
   ]
  },
  {
   "cell_type": "markdown",
   "metadata": {},
   "source": [
    "# !!! THIS CODE WRITES INTO \"data/tagged\" FOLDER !!!\n",
    "\n",
    "### IF YOU ALREADY HAVE A FOLDER NAMED \"tagged\" INTO \"data\" PLEASE MOVE ITS CONTENT INTO ANOTHER FOLDER BEFORE YOU RUN THIS NOTEBOOK\n",
    "\n",
    "### IF YOU HAVE NOT A FOLDER NAMED \"tagged\" IN THE \"data\" FOLDER PLEASE CREATE \"tagged\" FOLDER INSIDE \"data\" FOLDER BEFORE YOU RUN THIS NOTEBOOK"
   ]
  },
  {
   "cell_type": "markdown",
   "metadata": {},
   "source": [
    "## Comunque troppo coatto scrive in inglese"
   ]
  },
  {
   "cell_type": "markdown",
   "metadata": {},
   "source": [
    "## Imports"
   ]
  },
  {
   "cell_type": "code",
   "execution_count": 1,
   "metadata": {},
   "outputs": [],
   "source": [
    "import nltk\n",
    "import json\n",
    "import re\n",
    "import os\n",
    "import numpy as np\n",
    "import random"
   ]
  },
  {
   "cell_type": "markdown",
   "metadata": {},
   "source": [
    "#### if not done yet, you need to download the nltk base"
   ]
  },
  {
   "cell_type": "code",
   "execution_count": 2,
   "metadata": {},
   "outputs": [],
   "source": [
    "#run command below. you just need to do it once\n",
    "#nltk.download()"
   ]
  },
  {
   "cell_type": "markdown",
   "metadata": {},
   "source": [
    "## Support functions"
   ]
  },
  {
   "cell_type": "code",
   "execution_count": 3,
   "metadata": {},
   "outputs": [],
   "source": [
    "#accepted tags\n",
    "accepted = ['CA','CD','NN','NNP']\n",
    "#unwanted characters. it is a regex. they'll be substitued with space charachter\n",
    "unwntd = '[/_\\-|]'\n",
    "#unwanted name attributes\n",
    "unwntd_na = ['<page title>','url','URL','Url']"
   ]
  },
  {
   "cell_type": "code",
   "execution_count": 4,
   "metadata": {},
   "outputs": [],
   "source": [
    "def pos_filtr(sentence):\n",
    "    filtered = []\n",
    "    subtracted = re.sub(unwntd, ' ', sentence)\n",
    "    tokens = nltk.word_tokenize(subtracted)\n",
    "    tagged = nltk.pos_tag(tokens)\n",
    "    for elem in tagged:\n",
    "        wd = elem[0]\n",
    "        tg = elem[1]\n",
    "        if (tg in accepted):\n",
    "            filtered.append(wd)\n",
    "    return filtered"
   ]
  },
  {
   "cell_type": "code",
   "execution_count": 5,
   "metadata": {},
   "outputs": [],
   "source": [
    "def rndm_filtr(value):\n",
    "    filtered = []\n",
    "    if type(value) is 'List':\n",
    "        value_strng = ' '.join(str(value))\n",
    "    value_strng = str(value)\n",
    "    filtered = pos_filtr(value_strng)\n",
    "    if len(filtered) > 3:\n",
    "        nw_filtered = []\n",
    "        while (len(nw_filtered) <= 3 and filtered):\n",
    "            rndm_chc = random.choice(filtered)\n",
    "            filtered.remove(rndm_chc)\n",
    "            if (rndm_chc not in nw_filtered):\n",
    "                nw_filtered.append(rndm_chc)\n",
    "        return nw_filtered\n",
    "    return filtered"
   ]
  },
  {
   "cell_type": "code",
   "execution_count": 6,
   "metadata": {},
   "outputs": [],
   "source": [
    "def site_prod_name(complete_path, prod_name):\n",
    "    site_prod = (str(complete_path)).replace('data/specs/','')\n",
    "    site_prod += \"//\"\n",
    "    site_prod += str(prod_name)\n",
    "    return site_prod"
   ]
  },
  {
   "cell_type": "markdown",
   "metadata": {},
   "source": [
    "## File reader and POS tagger"
   ]
  },
  {
   "cell_type": "code",
   "execution_count": 7,
   "metadata": {},
   "outputs": [],
   "source": [
    "specs_dir = os.path.join(\"data\", \"specs\")\n",
    "tagged_dir = os.path.join(\"data\", \"tagged\")"
   ]
  },
  {
   "cell_type": "code",
   "execution_count": 16,
   "metadata": {
    "scrolled": true
   },
   "outputs": [
    {
     "name": "stdout",
     "output_type": "stream",
     "text": [
      "read and POS-tagged 0 files.\n",
      "done\n"
     ]
    }
   ],
   "source": [
    "i = 0\n",
    "tagged = {}\n",
    "for root_dir, _, files in os.walk(specs_dir):\n",
    "    for file_name in files:\n",
    "        if (i % 1000 == 0):\n",
    "            print('read and POS-tagged ' + str(i) + ' files.')\n",
    "        if file_name.endswith(\".json\"):\n",
    "            file_path = os.path.join(root_dir, file_name)\n",
    "            #print('read ' + str(file_path))\n",
    "            with open(file_path, encoding='utf-8') as json_file:\n",
    "                data = json.load(json_file)\n",
    "                for att_name, att_value in data.items():\n",
    "                    if(att_name in unwntd_na):\n",
    "                        continue\n",
    "                    head, parent_dir = os.path.split(root_dir)\n",
    "                    original_name = parent_dir + '//' + file_name[:-5] + '//' + att_name    \n",
    "                    new_att_name = ' '.join(pos_filtr(str(att_name)))\n",
    "                    new_att_value = ' '.join(rndm_filtr(att_value))\n",
    "                    if (new_att_name and new_att_value):\n",
    "                        tagged[original_name] = [new_att_name, new_att_value]\n",
    "                i += 1\n",
    "path_str = str(file_path)\n",
    "str_file = ('tagged.json')\n",
    "tagged_file = os.path.join(tagged_dir, str_file)\n",
    "with open(tagged_file, 'w', encoding='utf-8') as outpt_fl:\n",
    "    json.dump(tagged, outpt_fl, ensure_ascii=False)\n",
    "print('done')    "
   ]
  },
  {
   "cell_type": "code",
   "execution_count": null,
   "metadata": {},
   "outputs": [],
   "source": []
  }
 ],
 "metadata": {
  "kernelspec": {
   "display_name": "Python 3",
   "language": "python",
   "name": "python3"
  },
  "language_info": {
   "codemirror_mode": {
    "name": "ipython",
    "version": 3
   },
   "file_extension": ".py",
   "mimetype": "text/x-python",
   "name": "python",
   "nbconvert_exporter": "python",
   "pygments_lexer": "ipython3",
   "version": "3.7.6"
  }
 },
 "nbformat": 4,
 "nbformat_minor": 4
}
